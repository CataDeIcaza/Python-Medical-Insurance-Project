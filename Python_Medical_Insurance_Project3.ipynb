{
 "cells": [
  {
   "cell_type": "markdown",
   "metadata": {},
   "source": [
    "Functions"
   ]
  },
  {
   "cell_type": "code",
   "execution_count": 26,
   "metadata": {},
   "outputs": [
    {
     "name": "stdout",
     "output_type": "stream",
     "text": [
      "Keanu's Estimated Insurance Cost: 20247 dollars.\n",
      "To lower your cost, you should consider quitting smoking.\n"
     ]
    }
   ],
   "source": [
    "# Analizing smoker factor\n",
    "def analyze_smoker(smoker_status):\n",
    "  if smoker_status == 1: \n",
    "    print (\"To lower your cost, you should consider quitting smoking.\")\n",
    "  else:\n",
    "    print (\"Smoking is not an issue for you.\")\n",
    "  return smoker_status\n",
    "\n",
    "# Function to estimate insurance cost:\n",
    "def estimate_insurance_cost(name, age, sex, num_of_children, smoker):\n",
    "  estimated_cost = 400*age - 128*sex + 425*num_of_children + 10000*smoker - 2500\n",
    "  print(name + \"'s Estimated Insurance Cost: \" + str(estimated_cost) + \" dollars.\")\n",
    "  analyze_smoker(smoker)\n",
    "  return estimated_cost\n",
    " \n",
    "# Estimate Keanu's insurance cost\n",
    "keanu_insurance_cost = estimate_insurance_cost(name = 'Keanu', age = 29, sex = 1, num_of_children = 3, smoker = 1)"
   ]
  },
  {
   "cell_type": "code",
   "execution_count": 27,
   "metadata": {},
   "outputs": [],
   "source": [
    "# Function to estimate insurance cost:\n",
    "def estimate_insurance_cost(name, age, sex, bmi, num_of_children, smoker):\n",
    "  estimated_cost = 250*age - 128*sex + 370*bmi + 425*num_of_children + 24000*smoker - 12500\n",
    "  #print(name + \"'s Estimated Insurance Cost: \" + str(estimated_cost) + \" dollars.\")\n",
    "  return estimated_cost\n",
    "\n",
    "# Function to calculate the difference between actual and estimated insurance costs\n",
    "def calculate_insurance_cost_difference(actual_costs, estimated_costs):\n",
    "    insurance_cost_difference = []\n",
    "    for i in range(len(actual_costs)):\n",
    "        name = actual_costs[i][0]\n",
    "        actual_cost = actual_costs[i][1]\n",
    "        estimated_cost = estimated_costs[i][1]\n",
    "        difference = actual_cost - estimated_cost\n",
    "        insurance_cost_difference.append((name, difference))\n",
    "    return insurance_cost_difference"
   ]
  },
  {
   "cell_type": "markdown",
   "metadata": {},
   "source": [
    "Creating a List, Combining Lists and Appending to a List\n"
   ]
  },
  {
   "cell_type": "code",
   "execution_count": 28,
   "metadata": {},
   "outputs": [
    {
     "name": "stdout",
     "output_type": "stream",
     "text": [
      "Here is the estimated insurance cost data: [('Maria', 4222.0), ('Rohan', 5442.0), ('Valentina', 36368.0)]\n"
     ]
    }
   ],
   "source": [
    "    \n",
    "# Estimate Maria's insurance cost\n",
    "maria_insurance_cost = estimate_insurance_cost(name = \"Maria\", age = 31, sex = 0, bmi = 23.1, num_of_children = 1, smoker = 0)\n",
    "\n",
    "# Estimate Rohan's insurance cost\n",
    "rohan_insurance_cost = estimate_insurance_cost(name = \n",
    "\"Rohan\", age = 25, sex = 1, bmi = 28.5, num_of_children = 3, smoker = 0)\n",
    "\n",
    "# Estimate Valentina's insurance cost\n",
    "valentina_insurance_cost = estimate_insurance_cost(name = \"Valentina\", age = 53, sex = 0, bmi = 31.4, num_of_children = 0, smoker = 1)\n",
    "\n",
    "# Estimated Insurance Cost\n",
    "estimated_insurance_data = []\n",
    "estimated_insurance_data.append((\"Maria\", maria_insurance_cost))\n",
    "estimated_insurance_data.append((\"Rohan\", rohan_insurance_cost))\n",
    "estimated_insurance_data.append((\"Valentina\", valentina_insurance_cost))\n",
    "\n",
    "print (\"Here is the estimated insurance cost data: \" + str(estimated_insurance_data))"
   ]
  },
  {
   "cell_type": "markdown",
   "metadata": {},
   "source": [
    "Inspecting the data\n"
   ]
  },
  {
   "cell_type": "code",
   "execution_count": 29,
   "metadata": {},
   "outputs": [
    {
     "name": "stdout",
     "output_type": "stream",
     "text": [
      "Here is the actual insurance cost data: [('Maria', 4150.0), ('Rohan', 5320.0), ('Valentina', 35210.0)]\n"
     ]
    }
   ],
   "source": [
    "# Actual insurance Cost\n",
    "names = [\"Maria\", \"Rohan\", \"Valentina\"]\n",
    "insurance_costs = [4150.0, 5320.0, 35210.0]\n",
    "insurance_data = list(zip(names, insurance_costs))\n",
    "\n",
    "print(\"Here is the actual insurance cost data: \" + str(insurance_data))"
   ]
  },
  {
   "cell_type": "code",
   "execution_count": 30,
   "metadata": {},
   "outputs": [
    {
     "name": "stdout",
     "output_type": "stream",
     "text": [
      "Here is the difference between actual and estimated insurance costs: [('Maria', -72.0), ('Rohan', -122.0), ('Valentina', -1158.0)]\n"
     ]
    }
   ],
   "source": [
    "# Call the function to calculate the differences\n",
    "insurance_cost_difference = calculate_insurance_cost_difference(insurance_data, estimated_insurance_data)\n",
    "\n",
    "print(\"Here is the difference between actual and estimated insurance costs: \" + str(insurance_cost_difference))"
   ]
  },
  {
   "cell_type": "markdown",
   "metadata": {},
   "source": [
    "Exploring List Data"
   ]
  },
  {
   "cell_type": "code",
   "execution_count": 31,
   "metadata": {},
   "outputs": [
    {
     "name": "stdout",
     "output_type": "stream",
     "text": [
      "[('Mohamed', 13262.0), ('Sara', 4816.0), ('Xia', 6839.0), ('Paul', 5054.0), ('Valentina', 14724.0), ('Jide', 5360.0), ('Aaron', 7640.0), ('Emily', 6072.0), ('Nikita', 2750.0), ('Paul', 12064.0), ('Priscilla', 8320.0)]\n",
      "Number of medical records: 11\n"
     ]
    }
   ],
   "source": [
    "names = [\"Mohamed\", \"Sara\", \"Xia\", \"Paul\", \"Valentina\", \"Jide\", \"Aaron\", \"Emily\", \"Nikita\", \"Paul\"]\n",
    "insurance_costs = [13262.0, 4816.0, 6839.0, 5054.0, 14724.0, 5360.0, 7640.0, 6072.0, 2750.0, 12064.0]\n",
    "\n",
    "names.append(\"Priscilla\")\n",
    "insurance_costs.append(8320.0)\n",
    "\n",
    "medical_records = list(zip(names, insurance_costs))\n",
    "print(medical_records)\n",
    "\n",
    "numof_medical_records = len(medical_records)\n",
    "print(\"Number of medical records: \" + str(numof_medical_records))"
   ]
  },
  {
   "cell_type": "code",
   "execution_count": 32,
   "metadata": {},
   "outputs": [
    {
     "name": "stdout",
     "output_type": "stream",
     "text": [
      "Here is the first medical record: ('Mohamed', 13262.0)\n",
      "Here are the medical records sorted by insurance cost: [('Nikita', 2750.0), ('Sara', 4816.0), ('Paul', 5054.0), ('Jide', 5360.0), ('Emily', 6072.0), ('Xia', 6839.0), ('Aaron', 7640.0), ('Priscilla', 8320.0), ('Paul', 12064.0), ('Mohamed', 13262.0), ('Valentina', 14724.0)]\n"
     ]
    }
   ],
   "source": [
    "# Selecting List Elements\n",
    "first_medical_record = medical_records[0]\n",
    "print (\"Here is the first medical record: \" + str(first_medical_record))\n",
    "\n",
    "# Sorting Lists\n",
    "medical_records.sort(key=lambda record: record[1])\n",
    "print(\"Here are the medical records sorted by insurance cost: \" + str(medical_records))\n"
   ]
  },
  {
   "cell_type": "code",
   "execution_count": 33,
   "metadata": {},
   "outputs": [
    {
     "name": "stdout",
     "output_type": "stream",
     "text": [
      "Here are the three cheapest insurance costs in our medical records: [('Nikita', 2750.0), ('Sara', 4816.0), ('Paul', 5054.0)]\n",
      "Here are the three most expensive insurance costs in our medical records: [('Paul', 12064.0), ('Mohamed', 13262.0), ('Valentina', 14724.0)]\n"
     ]
    }
   ],
   "source": [
    "# Slicing Lists\n",
    "cheapest_three = medical_records[:3]\n",
    "print (\"Here are the three cheapest insurance costs in our medical records: \" + str(cheapest_three))\n",
    "\n",
    "priciest_three = medical_records[-3:]\n",
    "print (\"Here are the three most expensive insurance costs in our medical records: \" + str(priciest_three))"
   ]
  },
  {
   "cell_type": "code",
   "execution_count": 34,
   "metadata": {},
   "outputs": [
    {
     "name": "stdout",
     "output_type": "stream",
     "text": [
      "There are 2 individuals with the name Paul in our medical records.\n",
      "[('Mohamed', 13262.0), ('Nikita', 2750.0), ('Paul', 5054.0), ('Paul', 12064.0)]\n"
     ]
    }
   ],
   "source": [
    "# Counting Elements in a List\n",
    "def occurrences_name(name): \n",
    "  occurrences = names.count(name)\n",
    "  print(\"There are \" + str(occurrences) + \" individuals with the name \" + name + \" in our medical records.\")\n",
    "  return occurrences \n",
    "\n",
    "occurrences_name(\"Paul\")\n",
    "\n",
    "medical_records.sort(key=lambda record: record[0])\n",
    "middle_five_records = medical_records [3:7]\n",
    "print (middle_five_records)"
   ]
  }
 ],
 "metadata": {
  "kernelspec": {
   "display_name": "Python 3",
   "language": "python",
   "name": "python3"
  },
  "language_info": {
   "codemirror_mode": {
    "name": "ipython",
    "version": 3
   },
   "file_extension": ".py",
   "mimetype": "text/x-python",
   "name": "python",
   "nbconvert_exporter": "python",
   "pygments_lexer": "ipython3",
   "version": "3.11.6"
  }
 },
 "nbformat": 4,
 "nbformat_minor": 2
}
