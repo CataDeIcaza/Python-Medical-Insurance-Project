{
 "cells": [
  {
   "cell_type": "markdown",
   "metadata": {},
   "source": [
    "Loops: Medical Insurance Estimates vs. Costs Project"
   ]
  },
  {
   "cell_type": "code",
   "execution_count": 5,
   "metadata": {},
   "outputs": [
    {
     "name": "stdout",
     "output_type": "stream",
     "text": [
      "Average Insurance Costs: 4400.0 dollars.\n"
     ]
    }
   ],
   "source": [
    "names = [\"Judith\", \"Abel\", \"Tyson\", \"Martha\", \"Beverley\", \"David\", \"Anabel\"]\n",
    "estimated_insurance_costs = [1000.0, 2000.0, 3000.0, 4000.0, 5000.0, 6000.0, 7000.0]\n",
    "actual_insurance_costs = [1100.0, 2200.0, 3300.0, 4400.0, 5500.0, 6600.0, 7700.0]\n",
    "\n",
    "# Creating a For Loop\n",
    "total_cost = 0\n",
    "for insurance_cost in actual_insurance_costs:\n",
    "  total_cost += insurance_cost\n",
    "\n",
    "average_cost = total_cost / len(actual_insurance_costs)\n",
    "print (\"Average Insurance Costs: \" + str(average_cost) + \" dollars.\")"
   ]
  },
  {
   "cell_type": "code",
   "execution_count": 6,
   "metadata": {},
   "outputs": [
    {
     "name": "stdout",
     "output_type": "stream",
     "text": [
      "The insurance cost for Judith is 1100.0 dollars.\n",
      "The insurance cost for Judith is 3300.0 dollars below average.\n",
      "The insurance cost for Abel is 2200.0 dollars.\n",
      "The insurance cost for Abel is 2200.0 dollars below average.\n",
      "The insurance cost for Tyson is 3300.0 dollars.\n",
      "The insurance cost for Tyson is 1100.0 dollars below average.\n",
      "The insurance cost for Martha is 4400.0 dollars.\n",
      "The insurance cost for Martha is 0.0 dollars above average.\n",
      "The insurance cost for Beverley is 5500.0 dollars.\n",
      "The insurance cost for Beverley is 1100.0 dollars above average.\n",
      "The insurance cost for David is 6600.0 dollars.\n",
      "The insurance cost for David is 2200.0 dollars above average.\n",
      "The insurance cost for Anabel is 7700.0 dollars.\n",
      "The insurance cost for Anabel is 3300.0 dollars above average.\n"
     ]
    }
   ],
   "source": [
    "# Using Range and Conditions Inside a Loop\n",
    "for i in range (len(names)):\n",
    "  name = names[i]\n",
    "  insurance_cost = actual_insurance_costs [i]\n",
    "  difference = insurance_cost - average_cost \n",
    "  print (\"The insurance cost for \" + name + \" is \" + str(insurance_cost) + \" dollars.\" )\n",
    "  if insurance_cost >= average_cost:\n",
    "    print (\"The insurance cost for \" + name + \" is \" + str(difference) + \" dollars above average.\")\n",
    "  elif insurance_cost <= average_cost:\n",
    "    print (\"The insurance cost for \" + name +  \" is \" + str(abs(difference)) + \" dollars below average.\")\n",
    "  else:\n",
    "    print (\"The insurance cost for \" + name + \"is iqual to the average.\")"
   ]
  },
  {
   "cell_type": "code",
   "execution_count": 7,
   "metadata": {},
   "outputs": [
    {
     "name": "stdout",
     "output_type": "stream",
     "text": [
      "[1100.0, 2200.0, 3300.0, 4400.0, 5500.0, 6600.0, 7700.0]\n"
     ]
    }
   ],
   "source": [
    "# Creating a List Comprehension\n",
    "updated_estimated_costs = [estimated_cost * 11/10 for estimated_cost in estimated_insurance_costs]\n",
    "print (updated_estimated_costs)"
   ]
  }
 ],
 "metadata": {
  "kernelspec": {
   "display_name": "Python 3",
   "language": "python",
   "name": "python3"
  },
  "language_info": {
   "codemirror_mode": {
    "name": "ipython",
    "version": 3
   },
   "file_extension": ".py",
   "mimetype": "text/x-python",
   "name": "python",
   "nbconvert_exporter": "python",
   "pygments_lexer": "ipython3",
   "version": "3.11.6"
  }
 },
 "nbformat": 4,
 "nbformat_minor": 2
}
