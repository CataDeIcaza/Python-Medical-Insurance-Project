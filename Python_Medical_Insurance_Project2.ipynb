{
 "cells": [
  {
   "cell_type": "code",
   "execution_count": 20,
   "metadata": {},
   "outputs": [],
   "source": [
    "# Creating calculate_insurance_cost() function below: \n",
    "def calculate_insurance_cost (name, age, sex, bmi, num_of_children, smoker):\n",
    "  estimated_cost = 250*age - 128*sex + 370*bmi + 425*num_of_children + 24000*smoker - 12500\n",
    "  print (\"The estimated insurance cost for \" + name + \" is \" + str(estimated_cost) + \" dollars.\")\n",
    "  print(str(estimated_cost))\n",
    "  return estimated_cost"
   ]
  },
  {
   "cell_type": "code",
   "execution_count": 21,
   "metadata": {},
   "outputs": [],
   "source": [
    "# Creating calculate_difference_insurance_cost() function below: \n",
    "def calculate_difference_insurance_cost(insurance_cost_1, insurance_cost_2):\n",
    "  difference = insurance_cost_1 - insurance_cost_2\n",
    "  print (\"The difference in insurance cost is \" + str(difference) + \" dollars.\")\n",
    "  return difference"
   ]
  },
  {
   "cell_type": "code",
   "execution_count": 22,
   "metadata": {},
   "outputs": [
    {
     "name": "stdout",
     "output_type": "stream",
     "text": [
      "The estimated insurance cost for Maria is 5469.0 dollars.\n",
      "5469.0\n"
     ]
    }
   ],
   "source": [
    "# Estimate Maria's insurance cost\n",
    "maria_insurance_cost  = calculate_insurance_cost(\"Maria\", 28, 0, 26.2, 3, 0) \n"
   ]
  },
  {
   "cell_type": "code",
   "execution_count": 23,
   "metadata": {},
   "outputs": [
    {
     "name": "stdout",
     "output_type": "stream",
     "text": [
      "The estimated insurance cost for Omar is 28336.0 dollars.\n",
      "28336.0\n"
     ]
    }
   ],
   "source": [
    "# Estimate Omar's insurance cost \n",
    "omar_insurance_cost  = calculate_insurance_cost(name = \"Omar\", age = 35, sex = 1, bmi = 22.2, num_of_children = 0, smoker = 1)"
   ]
  },
  {
   "cell_type": "code",
   "execution_count": 24,
   "metadata": {},
   "outputs": [
    {
     "name": "stdout",
     "output_type": "stream",
     "text": [
      "The estimated insurance cost for Catalina is 2454.0 dollars.\n",
      "2454.0\n"
     ]
    }
   ],
   "source": [
    "# Estimate Catalina's insurance cost \n",
    "Catalina_insurance_cost = calculate_insurance_cost(name = \"Catalina\", age = 24, sex = 0, bmi = 24.2, num_of_children = 0, smoker = 0)"
   ]
  },
  {
   "cell_type": "code",
   "execution_count": 25,
   "metadata": {},
   "outputs": [
    {
     "name": "stdout",
     "output_type": "stream",
     "text": [
      "The difference in insurance cost is 22867.0 dollars.\n"
     ]
    }
   ],
   "source": [
    "# Calculating the cost difference between Maria's and Omar's insurance\n",
    "Difference_Maria_Omar = calculate_difference_insurance_cost(omar_insurance_cost, maria_insurance_cost)"
   ]
  }
 ],
 "metadata": {
  "kernelspec": {
   "display_name": "Python 3",
   "language": "python",
   "name": "python3"
  },
  "language_info": {
   "codemirror_mode": {
    "name": "ipython",
    "version": 3
   },
   "file_extension": ".py",
   "mimetype": "text/x-python",
   "name": "python",
   "nbconvert_exporter": "python",
   "pygments_lexer": "ipython3",
   "version": "3.11.6"
  }
 },
 "nbformat": 4,
 "nbformat_minor": 2
}
